{
 "cells": [
  {
   "cell_type": "code",
   "execution_count": 50,
   "metadata": {
    "colab": {
     "base_uri": "https://localhost:8080/"
    },
    "executionInfo": {
     "elapsed": 1673,
     "status": "ok",
     "timestamp": 1649240169549,
     "user": {
      "displayName": "jacob byrne",
      "userId": "05085560715297500670"
     },
     "user_tz": -60
    },
    "id": "Lh_j9zM6ravn",
    "outputId": "cc7af7fb-966b-4de8-b49c-42fb5cbdef98"
   },
   "outputs": [
    {
     "name": "stdout",
     "output_type": "stream",
     "text": [
      "Drive already mounted at /content/drive; to attempt to forcibly remount, call drive.mount(\"/content/drive\", force_remount=True).\n"
     ]
    }
   ],
   "source": [
    "from google.colab import drive\n",
    "drive.mount('/content/drive')"
   ]
  },
  {
   "cell_type": "code",
   "execution_count": 51,
   "metadata": {
    "colab": {
     "base_uri": "https://localhost:8080/"
    },
    "executionInfo": {
     "elapsed": 6,
     "status": "ok",
     "timestamp": 1649240169549,
     "user": {
      "displayName": "jacob byrne",
      "userId": "05085560715297500670"
     },
     "user_tz": -60
    },
    "id": "KYGOAle7sTjk",
    "outputId": "fbd58d08-6836-4974-c7a4-b9599421a097"
   },
   "outputs": [
    {
     "name": "stdout",
     "output_type": "stream",
     "text": [
      "/content/drive/MyDrive/YLP\n"
     ]
    }
   ],
   "source": [
    "%cd /content/drive/MyDrive/YLP"
   ]
  },
  {
   "cell_type": "code",
   "execution_count": null,
   "metadata": {},
   "outputs": [],
   "source": [
    "# Some code in this file is adapted, from:\n",
    "# Adversarial Example Generation, Inkawhich, N. and Uriegas, E.,  2018, Available from: https://github.com/pytorch/tutorials/blob/master/beginner_source/fgsm_tutorial.py , Accessed: 20 Feb 2022"
   ]
  },
  {
   "cell_type": "code",
   "execution_count": 53,
   "metadata": {
    "colab": {
     "base_uri": "https://localhost:8080/"
    },
    "executionInfo": {
     "elapsed": 3,
     "status": "ok",
     "timestamp": 1649240169882,
     "user": {
      "displayName": "jacob byrne",
      "userId": "05085560715297500670"
     },
     "user_tz": -60
    },
    "id": "VS3Y8AYCtbRm",
    "outputId": "592321e3-8779-4d11-9981-2238d113da30"
   },
   "outputs": [
    {
     "data": {
      "text/plain": [
       "<torch._C.Generator at 0x7f6b9ef52af0>"
      ]
     },
     "execution_count": 53,
     "metadata": {},
     "output_type": "execute_result"
    }
   ],
   "source": [
    "from __future__ import print_function\n",
    "import torch\n",
    "import torch.nn as nn\n",
    "import torch.nn.functional as F\n",
    "import torch.optim as optim\n",
    "from torchvision import datasets, transforms\n",
    "import torchvision\n",
    "import numpy as np\n",
    "import matplotlib.pyplot as plt\n",
    "import os\n",
    "import time\n",
    "import datetime\n",
    "import csv\n",
    "\n",
    "\n",
    "# NOTE: This is a hack to get around \"User-agent\" limitations when downloading MNIST datasets\n",
    "#       see, https://github.com/pytorch/vision/issues/3497 for more information\n",
    "from six.moves import urllib\n",
    "opener = urllib.request.build_opener()\n",
    "opener.addheaders = [('User-agent', 'Mozilla/5.0')]\n",
    "urllib.request.install_opener(opener)\n"
   ]
  },
  {
   "cell_type": "code",
   "execution_count": 54,
   "metadata": {
    "executionInfo": {
     "elapsed": 2,
     "status": "ok",
     "timestamp": 1649240169882,
     "user": {
      "displayName": "jacob byrne",
      "userId": "05085560715297500670"
     },
     "user_tz": -60
    },
    "id": "jEd2ub_Ftv3w"
   },
   "outputs": [],
   "source": [
    "pretrained_model = os.path.join('results',\"current_pdenet.pt\")\n",
    "use_cuda=True"
   ]
  },
  {
   "cell_type": "code",
   "execution_count": 55,
   "metadata": {
    "colab": {
     "base_uri": "https://localhost:8080/"
    },
    "executionInfo": {
     "elapsed": 852,
     "status": "ok",
     "timestamp": 1649240170732,
     "user": {
      "displayName": "jacob byrne",
      "userId": "05085560715297500670"
     },
     "user_tz": -60
    },
    "id": "xAW3t-3Yt0P3",
    "outputId": "603a4b7e-8dfa-4303-f6a5-c0dd56bcc167"
   },
   "outputs": [
    {
     "name": "stdout",
     "output_type": "stream",
     "text": [
      "Files already downloaded and verified\n",
      "CUDA Available:  True\n"
     ]
    }
   ],
   "source": [
    "shift = transforms.Normalize(\n",
    "    mean=[0.5,0.5,0.5],\n",
    "    std=[1.,1.,1.],\n",
    "  )\n",
    "\n",
    "# CIFAR-10 Test dataset and dataloader declaration\n",
    "test_data =  datasets.CIFAR10('../data', train=False, download=True, transform=transforms.Compose([\n",
    "    transforms.Resize(256),\n",
    "    transforms.CenterCrop(224),\n",
    "    transforms.ToTensor(),\n",
    "    shift]))\n",
    "\n",
    "test_loader = torch.utils.data.DataLoader(test_data, batch_size=1, shuffle=False)\n",
    "\n",
    "# Define device choice\n",
    "print(\"CUDA Available: \",torch.cuda.is_available())\n",
    "device = torch.device(\"cuda\" if (use_cuda and torch.cuda.is_available()) else \"cpu\")"
   ]
  },
  {
   "cell_type": "code",
   "execution_count": 58,
   "metadata": {
    "executionInfo": {
     "elapsed": 4,
     "status": "ok",
     "timestamp": 1649240171113,
     "user": {
      "displayName": "jacob byrne",
      "userId": "05085560715297500670"
     },
     "user_tz": -60
    },
    "id": "vHeT5O9pjLUr"
   },
   "outputs": [],
   "source": [
    "# Load trained network\n",
    "PATH = os.path.join('results','current_resnet_20220319_0711.pt')\n",
    "# Modify output layer and load trained weights\n",
    "model = torchvision.models.resnet18(pretrained=False)\n",
    "model.fc = nn.Linear(512,10)\n",
    "model.load_state_dict(torch.load(PATH))\n",
    "model.eval()\n",
    "# Load to GPU\n",
    "model = model.to(device)"
   ]
  },
  {
   "cell_type": "code",
   "execution_count": 59,
   "metadata": {
    "executionInfo": {
     "elapsed": 4,
     "status": "ok",
     "timestamp": 1649240171113,
     "user": {
      "displayName": "jacob byrne",
      "userId": "05085560715297500670"
     },
     "user_tz": -60
    },
    "id": "8YAqfC930VlV"
   },
   "outputs": [],
   "source": [
    "## Non JB Code Block ##\n",
    "\n",
    "# FGSM attack code\n",
    "def fgsm_attack(image, epsilon, data_grad):\n",
    "    if epsilon == 0:\n",
    "      return image\n",
    "    # Collect the element-wise sign of the data gradient\n",
    "    sign_data_grad = data_grad.sign()\n",
    "    # Create the perturbed image by adjusting each pixel of the input image\n",
    "    perturbed_image = image + epsilon*sign_data_grad\n",
    "    # Adding clipping to maintain [0,1] range\n",
    "    perturbed_image = torch.clamp(perturbed_image, -0.5, 0.5)\n",
    "    # Return the perturbed image\n",
    "    return perturbed_image"
   ]
  },
  {
   "cell_type": "code",
   "execution_count": 63,
   "metadata": {
    "executionInfo": {
     "elapsed": 1,
     "status": "ok",
     "timestamp": 1649240344080,
     "user": {
      "displayName": "jacob byrne",
      "userId": "05085560715297500670"
     },
     "user_tz": -60
    },
    "id": "Iuybhtuw0WV0"
   },
   "outputs": [],
   "source": [
    "def norm_test( model, device, test_loader, epsilons ):\n",
    "    start = time.time()\n",
    "    sStartTime = datetime.datetime.now().strftime(\"%Y_%m_%d_%H_%M_%S\")\n",
    "    file_name = 'norm_diff_fgsm_resnet' + sStartTime + '.csv'\n",
    "\n",
    "    csv_path = os.path.join('results',file_name)\n",
    "    header = ['eps','y0_diff','y_diff']\n",
    "    with open(csv_path,'w') as f:\n",
    "      writer = csv.writer(f)\n",
    "      writer.writerow(header)\n",
    "        \n",
    "# v------Non JB Code------v # \n",
    "      for eps in epsilons:\n",
    "  \n",
    "        # Loop over all examples in test set\n",
    "        for data, target in test_loader:\n",
    "\n",
    "            data, target = data.to(device), target.to(device)\n",
    "\n",
    "\n",
    "            # Set requires_grad attribute of tensor. Important for Attack\n",
    "            data.requires_grad = True\n",
    "            \n",
    "            # Forward pass the data through the model\n",
    "            output = model(data)\n",
    "            \n",
    "            # Calculate the loss\n",
    "            loss = F.nll_loss(output, target)\n",
    "\n",
    "            # Zero all existing gradients\n",
    "            model.zero_grad()\n",
    "\n",
    "            # Calculate gradients of model in backward pass\n",
    "            loss.backward()\n",
    "\n",
    "            # Collect datagrad\n",
    "            data_grad = data.grad.data\n",
    "\n",
    "            # Call FGSM Attack\n",
    "            perturbed_data = fgsm_attack(data, eps, data_grad)\n",
    "\n",
    "            # Re-classify the perturbed image\n",
    "            output_tild = model(perturbed_data)\n",
    "# ^------Non JB Code------^ #\n",
    "            \n",
    "            # Calculate norms and save\n",
    "            norm_init = torch.linalg.norm(data-perturbed_data)\n",
    "            norm_final = torch.linalg.norm(output-output_tild)\n",
    "            writer.writerow([eps,norm_init.item(),norm_final.item()])"
   ]
  },
  {
   "cell_type": "code",
   "execution_count": 65,
   "metadata": {
    "executionInfo": {
     "elapsed": 43637,
     "status": "ok",
     "timestamp": 1649240399129,
     "user": {
      "displayName": "jacob byrne",
      "userId": "05085560715297500670"
     },
     "user_tz": -60
    },
    "id": "EVtDAioW0Xv1"
   },
   "outputs": [],
   "source": [
    "# Epsilsons chosen over wide range\n",
    "epsilons = [0.001,0.007,0.01,0.07,0.1,0.2]\n",
    "norm_test(model, device, test_loader, epsilons)"
   ]
  }
 ],
 "metadata": {
  "accelerator": "GPU",
  "colab": {
   "authorship_tag": "ABX9TyMN5jPDWkCzefpH8Kcy5RlQ",
   "collapsed_sections": [],
   "name": "ResNet FGSM Norm Testing",
   "provenance": [
    {
     "file_id": "1CWLqfL6SUAZ-HxLkXHCC_Ax-oxISEnAk",
     "timestamp": 1649238994671
    },
    {
     "file_id": "1gx11K-O-INdE8vWMxR9x859nwcbzIc-q",
     "timestamp": 1648471098995
    }
   ]
  },
  "kernelspec": {
   "display_name": "Python 3",
   "language": "python",
   "name": "python3"
  },
  "language_info": {
   "codemirror_mode": {
    "name": "ipython",
    "version": 3
   },
   "file_extension": ".py",
   "mimetype": "text/x-python",
   "name": "python",
   "nbconvert_exporter": "python",
   "pygments_lexer": "ipython3",
   "version": "3.8.8"
  }
 },
 "nbformat": 4,
 "nbformat_minor": 1
}
