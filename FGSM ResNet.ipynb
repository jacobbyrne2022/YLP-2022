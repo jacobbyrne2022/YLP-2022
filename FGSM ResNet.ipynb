{
 "cells": [
  {
   "cell_type": "code",
   "execution_count": null,
   "metadata": {
    "colab": {
     "base_uri": "https://localhost:8080/"
    },
    "executionInfo": {
     "elapsed": 1542,
     "status": "ok",
     "timestamp": 1650742945153,
     "user": {
      "displayName": "jacob byrne",
      "userId": "05085560715297500670"
     },
     "user_tz": -60
    },
    "id": "Lh_j9zM6ravn",
    "outputId": "426b4cfb-4528-470f-ba7b-5fad80088e9e"
   },
   "outputs": [
    {
     "name": "stdout",
     "output_type": "stream",
     "text": [
      "Drive already mounted at /content/drive; to attempt to forcibly remount, call drive.mount(\"/content/drive\", force_remount=True).\n"
     ]
    }
   ],
   "source": [
    "from google.colab import drive\n",
    "drive.mount('/content/drive')"
   ]
  },
  {
   "cell_type": "code",
   "execution_count": null,
   "metadata": {
    "colab": {
     "base_uri": "https://localhost:8080/"
    },
    "executionInfo": {
     "elapsed": 9,
     "status": "ok",
     "timestamp": 1650742945154,
     "user": {
      "displayName": "jacob byrne",
      "userId": "05085560715297500670"
     },
     "user_tz": -60
    },
    "id": "KYGOAle7sTjk",
    "outputId": "b15fa1e5-1926-40e7-e12e-bb7c393febfd"
   },
   "outputs": [
    {
     "name": "stdout",
     "output_type": "stream",
     "text": [
      "/content/drive/MyDrive/YLP\n"
     ]
    }
   ],
   "source": [
    "%cd /content/drive/MyDrive/YLP"
   ]
  },
  {
   "cell_type": "code",
   "execution_count": null,
   "metadata": {
    "colab": {
     "base_uri": "https://localhost:8080/"
    },
    "executionInfo": {
     "elapsed": 6,
     "status": "ok",
     "timestamp": 1650742945154,
     "user": {
      "displayName": "jacob byrne",
      "userId": "05085560715297500670"
     },
     "user_tz": -60
    },
    "id": "haxZbbl4yPhB",
    "outputId": "4f0f234b-cfef-4390-8a12-71fe4077a227"
   },
   "outputs": [
    {
     "name": "stdout",
     "output_type": "stream",
     "text": [
      "total 96\n",
      "drwx------ 2 root root  4096 Dec 13 10:50 \u001b[0m\u001b[01;34mdata\u001b[0m/\n",
      "drwx------ 3 root root  4096 Dec 13 09:16 \u001b[01;34mmodules\u001b[0m/\n",
      "drwx------ 2 root root  4096 Dec 13 09:21 \u001b[01;34m__pycache__\u001b[0m/\n",
      "-rw------- 1 root root    49 Dec 13 09:38 requirements2.txt\n",
      "-rw------- 1 root root    92 Dec  2 09:15 requirements.txt\n",
      "drwx------ 2 root root  4096 Dec 13 10:56 \u001b[01;34mresults\u001b[0m/\n",
      "-rw------- 1 root root 24681 Mar 14 07:17 RKNet.py\n",
      "drwx------ 2 root root  4096 Mar  9 09:55 \u001b[01;34mruns\u001b[0m/\n",
      "-rw------- 1 root root 51501 Mar 14 07:17 utils.py\n"
     ]
    }
   ],
   "source": [
    "# Unless mentioned, code is from:\n",
    "# Adversarial Example Generation, Inkawhich, N. and Uriegas, E.,  2018, Available from: https://github.com/pytorch/tutorials/blob/master/beginner_source/fgsm_tutorial.py , Accessed: 20 Feb 2022"
   ]
  },
  {
   "cell_type": "code",
   "execution_count": null,
   "metadata": {
    "colab": {
     "base_uri": "https://localhost:8080/"
    },
    "executionInfo": {
     "elapsed": 1306,
     "status": "ok",
     "timestamp": 1650742946457,
     "user": {
      "displayName": "jacob byrne",
      "userId": "05085560715297500670"
     },
     "user_tz": -60
    },
    "id": "VS3Y8AYCtbRm",
    "outputId": "736eb272-bf2d-486d-c673-fa1d66ad4dea"
   },
   "outputs": [
    {
     "data": {
      "text/plain": [
       "<torch._C.Generator at 0x7f57602782d0>"
      ]
     },
     "execution_count": 4,
     "metadata": {},
     "output_type": "execute_result"
    }
   ],
   "source": [
    "from __future__ import print_function\n",
    "import torch\n",
    "import torch.nn as nn\n",
    "import torch.nn.functional as F\n",
    "import torch.optim as optim\n",
    "from torchvision import datasets, transforms\n",
    "import torchvision\n",
    "import numpy as np\n",
    "import matplotlib.pyplot as plt\n",
    "import os\n",
    "from RKNet import RKNet\n",
    "\n",
    "# NOTE: This is a hack to get around \"User-agent\" limitations when downloading MNIST datasets\n",
    "#       see, https://github.com/pytorch/vision/issues/3497 for more information\n",
    "from six.moves import urllib\n",
    "opener = urllib.request.build_opener()\n",
    "opener.addheaders = [('User-agent', 'Mozilla/5.0')]\n",
    "urllib.request.install_opener(opener)\n"
   ]
  },
  {
   "cell_type": "code",
   "execution_count": null,
   "metadata": {
    "id": "jEd2ub_Ftv3w"
   },
   "outputs": [],
   "source": [
    "## JB Code Block ##\n",
    "epsilons = [2**(-7), 2**(-6), 2**(-5), 2**(-4), 2**(-3), 2**(-2), 2**(-1)]\n",
    "\n",
    "#filename for trained parabolic network\n",
    "pretrained_model = os.path.join('results',\"current_pdenet.pt\")\n",
    "use_cuda=True"
   ]
  },
  {
   "cell_type": "code",
   "execution_count": null,
   "metadata": {
    "colab": {
     "base_uri": "https://localhost:8080/"
    },
    "executionInfo": {
     "elapsed": 1749,
     "status": "ok",
     "timestamp": 1650742948205,
     "user": {
      "displayName": "jacob byrne",
      "userId": "05085560715297500670"
     },
     "user_tz": -60
    },
    "id": "xAW3t-3Yt0P3",
    "outputId": "72eccbf0-b08f-43e8-c0cb-5dc60fe28939"
   },
   "outputs": [
    {
     "name": "stdout",
     "output_type": "stream",
     "text": [
      "Files already downloaded and verified\n",
      "CUDA Available:  True\n"
     ]
    }
   ],
   "source": [
    "## JB Code Block ##\n",
    "\n",
    "shift = transforms.Normalize(\n",
    "    mean=[0.5,0.5,0.5],\n",
    "    std=[1.,1.,1.],\n",
    "  )\n",
    "\n",
    "\n",
    "\n",
    "# CIFAR-10 Test dataset and dataloader declaration\n",
    "# ResNet accepts images of size 224 x 224, so size all images to 256 x 256 and then crop\n",
    "test_data =  datasets.CIFAR10('../data', train=False, download=True, transform=transforms.Compose([\n",
    "    transforms.Resize(256),\n",
    "    transforms.CenterCrop(224),\n",
    "    transforms.ToTensor(),\n",
    "    shift]))\n",
    "\n",
    "\n",
    "test_loader = torch.utils.data.DataLoader(test_data, batch_size=1, shuffle=False)\n",
    "\n",
    "# Define what device we are using\n",
    "print(\"CUDA Available: \",torch.cuda.is_available())\n",
    "device = torch.device(\"cuda\" if (use_cuda and torch.cuda.is_available()) else \"cpu\")"
   ]
  },
  {
   "cell_type": "code",
   "execution_count": null,
   "metadata": {
    "id": "vHeT5O9pjLUr"
   },
   "outputs": [],
   "source": [
    "## JB Code Block ##\n",
    "\n",
    "# Filename for trained ResNet network\n",
    "PATH = os.path.join('results','current_resnet_20220319_0711.pt')\n",
    "\n",
    "# Modify output layer so that dimensions match saved model\n",
    "model = torchvision.models.resnet18(pretrained=False)\n",
    "model.fc = nn.Linear(512,10)\n",
    "\n",
    "# Load saved weights\n",
    "model.load_state_dict(torch.load(PATH))\n",
    "# Set to eval mode - turns dropout layers into identity\n",
    "model.eval()\n",
    "\n",
    "# Load model to GPU\n",
    "model = model.to(device)"
   ]
  },
  {
   "cell_type": "code",
   "execution_count": null,
   "metadata": {
    "id": "8YAqfC930VlV"
   },
   "outputs": [],
   "source": [
    "# FGSM attack code\n",
    "def fgsm_attack(image, epsilon, data_grad):\n",
    "    if epsilon == 0:\n",
    "      return image\n",
    "    # Collect the element-wise sign of the data gradient\n",
    "    sign_data_grad = data_grad.sign()\n",
    "    # Create the perturbed image by adjusting each pixel of the input image\n",
    "    perturbed_image = image + epsilon*sign_data_grad\n",
    "    # Adding clipping to maintain [0,1] range\n",
    "    perturbed_image = torch.clamp(perturbed_image, -0.5, 0.5)\n",
    "    # Return the perturbed image\n",
    "    return perturbed_image"
   ]
  },
  {
   "cell_type": "code",
   "execution_count": null,
   "metadata": {
    "id": "Iuybhtuw0WV0"
   },
   "outputs": [],
   "source": [
    "def test( model, device, test_loader, epsilon ):\n",
    "\n",
    "    # Accuracy counter\n",
    "    correct = 0\n",
    "    adv_examples = []\n",
    "    \n",
    "    # JB code line: keep track of incorrect examples as they are not attacked\n",
    "    incorrect_init = 0\n",
    "  \n",
    "    # Loop over all examples in test set\n",
    "    for data, target in test_loader:\n",
    "        \n",
    "        data, target = data.to(device), target.to(device)\n",
    "\n",
    "\n",
    "        # Set requires_grad attribute of tensor. Important for Attack\n",
    "        data.requires_grad = True\n",
    "\n",
    "        # Forward pass the data through the model\n",
    "        output = model(data)\n",
    "        \n",
    "        init_pred = output.max(1, keepdim=True)[1] # get the index of the max log-probability\n",
    "\n",
    "        # If the initial prediction is wrong, dont bother attacking, just move on\n",
    "        if init_pred.item() != target.item():\n",
    "          incorrect_init += 1\n",
    "          continue\n",
    "\n",
    "        # Calculate the loss\n",
    "        loss = F.nll_loss(output, target)\n",
    "\n",
    "        # Zero all existing gradients\n",
    "        model.zero_grad()\n",
    "\n",
    "        # Calculate gradients of model in backward pass\n",
    "        loss.backward()\n",
    "\n",
    "        # Collect datagrad\n",
    "        data_grad = data.grad.data\n",
    "\n",
    "        # Call FGSM Attack\n",
    "        perturbed_data = fgsm_attack(data, epsilon, data_grad)\n",
    "\n",
    "        # Re-classify the perturbed image\n",
    "        output = model(perturbed_data)\n",
    "\n",
    "        # Check for success\n",
    "        final_pred = output.max(1, keepdim=True)[1] # get the index of the max log-probability\n",
    "        if epsilon == 0 and final_pred.item() != init_pred.item():\n",
    "          print(\"Mismatch!\")\n",
    "          print(target.item(),init_pred.item(),final_pred.item())\n",
    "        if final_pred.item() == target.item():\n",
    "            correct += 1\n",
    "            # Special case for saving 0 epsilon examples\n",
    "            if (epsilon == 0) and (len(adv_examples) < 5):\n",
    "                adv_ex = perturbed_data.squeeze().detach().cpu().numpy()\n",
    "                adv_examples.append( (init_pred.item(), final_pred.item(), adv_ex) )\n",
    "        else:\n",
    "            # Save some adv examples for visualization later\n",
    "            if len(adv_examples) < 5:\n",
    "                adv_ex = perturbed_data.squeeze().detach().cpu().numpy()\n",
    "                adv_examples.append( (init_pred.item(), final_pred.item(), adv_ex) )\n",
    "\n",
    "    # Calculate final accuracy for this epsilon\n",
    "    fgsm_tested = len(test_loader)-incorrect_init\n",
    "    \n",
    "    # JB code line: accuracy is only out of examples that were FGSM tested\n",
    "    final_acc = correct/float(fgsm_tested)\n",
    "    # Original line: final_acc= correct/float(len(test_loader))\n",
    "    \n",
    "    # JB code line: match print-out with changes in line above\n",
    "    print(\"Epsilon: {}\\tTest Accuracy = {} / {} = {}\".format(epsilon, correct, fgsm_tested, final_acc))\n",
    "    # print(\"Epsilon: {}\\tInitial Accuracy = {} / {} = {}\".format(epsilon, incorrect_init, len(test_loader), init_acc))\n",
    "\n",
    "    # Return the accuracy and an adversarial example\n",
    "    return final_acc, adv_examples"
   ]
  },
  {
   "cell_type": "code",
   "execution_count": null,
   "metadata": {
    "colab": {
     "base_uri": "https://localhost:8080/"
    },
    "executionInfo": {
     "elapsed": 952148,
     "status": "ok",
     "timestamp": 1650743906174,
     "user": {
      "displayName": "jacob byrne",
      "userId": "05085560715297500670"
     },
     "user_tz": -60
    },
    "id": "EVtDAioW0Xv1",
    "outputId": "68a83700-ceb3-4b82-e93c-e0d1de41c283"
   },
   "outputs": [
    {
     "name": "stdout",
     "output_type": "stream",
     "text": [
      "Epsilon: 0\tTest Accuracy = 9356 / 9356 = 1.0\n",
      "Epsilon: 0.0078125\tTest Accuracy = 1528 / 9356 = 0.1633176571184267\n",
      "Epsilon: 0.015625\tTest Accuracy = 2431 / 9356 = 0.25983326207781104\n",
      "Epsilon: 0.03125\tTest Accuracy = 2983 / 9356 = 0.3188328345446772\n",
      "Epsilon: 0.0625\tTest Accuracy = 2147 / 9356 = 0.2294784095767422\n",
      "Epsilon: 0.125\tTest Accuracy = 1353 / 9356 = 0.14461308251389482\n",
      "Epsilon: 0.25\tTest Accuracy = 1019 / 9356 = 0.1089140658401026\n",
      "Epsilon: 0.5\tTest Accuracy = 1084 / 9356 = 0.115861479264643\n"
     ]
    }
   ],
   "source": [
    "accuracies = []\n",
    "examples = []\n",
    "\n",
    "# Run test for each epsilon\n",
    "for eps in epsilons:\n",
    "    acc, ex = test(model, device, test_loader, eps)\n",
    "    accuracies.append(acc)\n",
    "    examples.append(ex)"
   ]
  }
 ],
 "metadata": {
  "accelerator": "GPU",
  "colab": {
   "authorship_tag": "ABX9TyOoLsIuURbswzYeA8AKdOKC",
   "collapsed_sections": [],
   "name": "FGSM ResNet",
   "provenance": [
    {
     "file_id": "1gx11K-O-INdE8vWMxR9x859nwcbzIc-q",
     "timestamp": 1648471098995
    }
   ]
  },
  "kernelspec": {
   "display_name": "Python 3",
   "language": "python",
   "name": "python3"
  },
  "language_info": {
   "codemirror_mode": {
    "name": "ipython",
    "version": 3
   },
   "file_extension": ".py",
   "mimetype": "text/x-python",
   "name": "python",
   "nbconvert_exporter": "python",
   "pygments_lexer": "ipython3",
   "version": "3.8.8"
  }
 },
 "nbformat": 4,
 "nbformat_minor": 1
}
