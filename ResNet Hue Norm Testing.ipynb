{
 "cells": [
  {
   "cell_type": "code",
   "execution_count": 11,
   "metadata": {
    "colab": {
     "base_uri": "https://localhost:8080/"
    },
    "executionInfo": {
     "elapsed": 2684,
     "status": "ok",
     "timestamp": 1648470545830,
     "user": {
      "displayName": "jacob byrne",
      "photoUrl": "https://lh3.googleusercontent.com/a/default-user=s64",
      "userId": "05085560715297500670"
     },
     "user_tz": -60
    },
    "id": "Lh_j9zM6ravn",
    "outputId": "0215801d-dc72-4b39-8245-d65cbe9bd632"
   },
   "outputs": [
    {
     "name": "stdout",
     "output_type": "stream",
     "text": [
      "Drive already mounted at /content/drive; to attempt to forcibly remount, call drive.mount(\"/content/drive\", force_remount=True).\n"
     ]
    }
   ],
   "source": [
    "from google.colab import drive\n",
    "drive.mount('/content/drive')"
   ]
  },
  {
   "cell_type": "code",
   "execution_count": 12,
   "metadata": {
    "colab": {
     "base_uri": "https://localhost:8080/"
    },
    "executionInfo": {
     "elapsed": 6,
     "status": "ok",
     "timestamp": 1648470545830,
     "user": {
      "displayName": "jacob byrne",
      "photoUrl": "https://lh3.googleusercontent.com/a/default-user=s64",
      "userId": "05085560715297500670"
     },
     "user_tz": -60
    },
    "id": "-DyDzO0blag-",
    "outputId": "78df90c1-f550-4228-db6b-9e8449268469"
   },
   "outputs": [
    {
     "name": "stdout",
     "output_type": "stream",
     "text": [
      "/content/drive/MyDrive/YLP\n"
     ]
    }
   ],
   "source": [
    "%cd /content/drive/MyDrive/YLP"
   ]
  },
  {
   "cell_type": "code",
   "execution_count": 13,
   "metadata": {
    "executionInfo": {
     "elapsed": 5,
     "status": "ok",
     "timestamp": 1648470545831,
     "user": {
      "displayName": "jacob byrne",
      "photoUrl": "https://lh3.googleusercontent.com/a/default-user=s64",
      "userId": "05085560715297500670"
     },
     "user_tz": -60
    },
    "id": "CQ8z3v8MY0zL"
   },
   "outputs": [],
   "source": [
    "from RKNet import RKNet\n",
    "import torch\n",
    "import torch.nn as nn\n",
    "import torch.nn.functional as F\n",
    "import matplotlib.pyplot as plt\n",
    "import numpy as np\n",
    "import torchvision\n",
    "import torchvision.transforms as transforms\n",
    "import os\n",
    "import time\n",
    "import datetime"
   ]
  },
  {
   "cell_type": "code",
   "execution_count": 14,
   "metadata": {
    "colab": {
     "base_uri": "https://localhost:8080/"
    },
    "executionInfo": {
     "elapsed": 745,
     "status": "ok",
     "timestamp": 1648470546571,
     "user": {
      "displayName": "jacob byrne",
      "photoUrl": "https://lh3.googleusercontent.com/a/default-user=s64",
      "userId": "05085560715297500670"
     },
     "user_tz": -60
    },
    "id": "sSh_aCq2ltwf",
    "outputId": "7c7efb9d-3a60-4057-e2cc-9f0d92b75e56"
   },
   "outputs": [
    {
     "name": "stdout",
     "output_type": "stream",
     "text": [
      "Files already downloaded and verified\n"
     ]
    }
   ],
   "source": [
    "batch_size = 250\n",
    "\n",
    "shift = transforms.Normalize(\n",
    "    mean=[0.5,0.5,0.5],\n",
    "    std=[1.,1.,1.],\n",
    "  )\n",
    "\n",
    "# Load standard images for control purposes\n",
    "transformTest = transforms.Compose(\n",
    "    [transforms.ToTensor(),\n",
    "     shift])\n",
    "\n",
    "\n",
    "testSet = torchvision.datasets.CIFAR10(root='./data', train=False,\n",
    "                                           download=True, transform=transformTest)\n",
    "testLoader = torch.utils.data.DataLoader(testSet, batch_size=batch_size,\n",
    "                                          shuffle=False)\n",
    "\n",
    "eps = 0.05\n",
    "\n",
    "# Perturb testing images\n",
    "hueTransform = transforms.Compose(\n",
    "[lambda x: transforms.functional.adjust_hue(x,hue_factor=eps),\n",
    "  transforms.ToTensor(),\n",
    "  shift]\n",
    ")\n",
    "\n",
    "hueSet = torchvision.datasets.CIFAR10(root='./data', train=False,\n",
    "                                        download=True, transform=hueTransform)\n",
    "hueLoader = torch.utils.data.DataLoader(hueSet, batch_size=batch_size,\n",
    "                                        shuffle=False)\n",
    "\n",
    "classes = ('plane', 'car', 'bird', 'cat',\n",
    "           'deer', 'dog', 'frog', 'horse', 'ship', 'truck')"
   ]
  },
  {
   "cell_type": "code",
   "execution_count": 15,
   "metadata": {
    "executionInfo": {
     "elapsed": 2,
     "status": "ok",
     "timestamp": 1648470546571,
     "user": {
      "displayName": "jacob byrne",
      "photoUrl": "https://lh3.googleusercontent.com/a/default-user=s64",
      "userId": "05085560715297500670"
     },
     "user_tz": -60
    },
    "id": "NCdBsNUSlt8q"
   },
   "outputs": [],
   "source": [
    "def imshow(img):\n",
    "  img = img / 2 + 0.5\n",
    "  npimg = img.cpu().numpy()\n",
    "  plt.imshow(np.transpose(npimg, (1, 2, 0)))\n",
    "  plt.show()"
   ]
  },
  {
   "cell_type": "code",
   "execution_count": 16,
   "metadata": {
    "colab": {
     "base_uri": "https://localhost:8080/"
    },
    "executionInfo": {
     "elapsed": 962,
     "status": "ok",
     "timestamp": 1648470547530,
     "user": {
      "displayName": "jacob byrne",
      "photoUrl": "https://lh3.googleusercontent.com/a/default-user=s64",
      "userId": "05085560715297500670"
     },
     "user_tz": -60
    },
    "id": "9mCC_G_LYsv4",
    "outputId": "1ff3af03-8d58-4f6f-96c2-832dbc73b1e2"
   },
   "outputs": [
    {
     "data": {
      "text/plain": [
       "ResNet(\n",
       "  (conv1): Conv2d(3, 64, kernel_size=(7, 7), stride=(2, 2), padding=(3, 3), bias=False)\n",
       "  (bn1): BatchNorm2d(64, eps=1e-05, momentum=0.1, affine=True, track_running_stats=True)\n",
       "  (relu): ReLU(inplace=True)\n",
       "  (maxpool): MaxPool2d(kernel_size=3, stride=2, padding=1, dilation=1, ceil_mode=False)\n",
       "  (layer1): Sequential(\n",
       "    (0): BasicBlock(\n",
       "      (conv1): Conv2d(64, 64, kernel_size=(3, 3), stride=(1, 1), padding=(1, 1), bias=False)\n",
       "      (bn1): BatchNorm2d(64, eps=1e-05, momentum=0.1, affine=True, track_running_stats=True)\n",
       "      (relu): ReLU(inplace=True)\n",
       "      (conv2): Conv2d(64, 64, kernel_size=(3, 3), stride=(1, 1), padding=(1, 1), bias=False)\n",
       "      (bn2): BatchNorm2d(64, eps=1e-05, momentum=0.1, affine=True, track_running_stats=True)\n",
       "    )\n",
       "    (1): BasicBlock(\n",
       "      (conv1): Conv2d(64, 64, kernel_size=(3, 3), stride=(1, 1), padding=(1, 1), bias=False)\n",
       "      (bn1): BatchNorm2d(64, eps=1e-05, momentum=0.1, affine=True, track_running_stats=True)\n",
       "      (relu): ReLU(inplace=True)\n",
       "      (conv2): Conv2d(64, 64, kernel_size=(3, 3), stride=(1, 1), padding=(1, 1), bias=False)\n",
       "      (bn2): BatchNorm2d(64, eps=1e-05, momentum=0.1, affine=True, track_running_stats=True)\n",
       "    )\n",
       "  )\n",
       "  (layer2): Sequential(\n",
       "    (0): BasicBlock(\n",
       "      (conv1): Conv2d(64, 128, kernel_size=(3, 3), stride=(2, 2), padding=(1, 1), bias=False)\n",
       "      (bn1): BatchNorm2d(128, eps=1e-05, momentum=0.1, affine=True, track_running_stats=True)\n",
       "      (relu): ReLU(inplace=True)\n",
       "      (conv2): Conv2d(128, 128, kernel_size=(3, 3), stride=(1, 1), padding=(1, 1), bias=False)\n",
       "      (bn2): BatchNorm2d(128, eps=1e-05, momentum=0.1, affine=True, track_running_stats=True)\n",
       "      (downsample): Sequential(\n",
       "        (0): Conv2d(64, 128, kernel_size=(1, 1), stride=(2, 2), bias=False)\n",
       "        (1): BatchNorm2d(128, eps=1e-05, momentum=0.1, affine=True, track_running_stats=True)\n",
       "      )\n",
       "    )\n",
       "    (1): BasicBlock(\n",
       "      (conv1): Conv2d(128, 128, kernel_size=(3, 3), stride=(1, 1), padding=(1, 1), bias=False)\n",
       "      (bn1): BatchNorm2d(128, eps=1e-05, momentum=0.1, affine=True, track_running_stats=True)\n",
       "      (relu): ReLU(inplace=True)\n",
       "      (conv2): Conv2d(128, 128, kernel_size=(3, 3), stride=(1, 1), padding=(1, 1), bias=False)\n",
       "      (bn2): BatchNorm2d(128, eps=1e-05, momentum=0.1, affine=True, track_running_stats=True)\n",
       "    )\n",
       "  )\n",
       "  (layer3): Sequential(\n",
       "    (0): BasicBlock(\n",
       "      (conv1): Conv2d(128, 256, kernel_size=(3, 3), stride=(2, 2), padding=(1, 1), bias=False)\n",
       "      (bn1): BatchNorm2d(256, eps=1e-05, momentum=0.1, affine=True, track_running_stats=True)\n",
       "      (relu): ReLU(inplace=True)\n",
       "      (conv2): Conv2d(256, 256, kernel_size=(3, 3), stride=(1, 1), padding=(1, 1), bias=False)\n",
       "      (bn2): BatchNorm2d(256, eps=1e-05, momentum=0.1, affine=True, track_running_stats=True)\n",
       "      (downsample): Sequential(\n",
       "        (0): Conv2d(128, 256, kernel_size=(1, 1), stride=(2, 2), bias=False)\n",
       "        (1): BatchNorm2d(256, eps=1e-05, momentum=0.1, affine=True, track_running_stats=True)\n",
       "      )\n",
       "    )\n",
       "    (1): BasicBlock(\n",
       "      (conv1): Conv2d(256, 256, kernel_size=(3, 3), stride=(1, 1), padding=(1, 1), bias=False)\n",
       "      (bn1): BatchNorm2d(256, eps=1e-05, momentum=0.1, affine=True, track_running_stats=True)\n",
       "      (relu): ReLU(inplace=True)\n",
       "      (conv2): Conv2d(256, 256, kernel_size=(3, 3), stride=(1, 1), padding=(1, 1), bias=False)\n",
       "      (bn2): BatchNorm2d(256, eps=1e-05, momentum=0.1, affine=True, track_running_stats=True)\n",
       "    )\n",
       "  )\n",
       "  (layer4): Sequential(\n",
       "    (0): BasicBlock(\n",
       "      (conv1): Conv2d(256, 512, kernel_size=(3, 3), stride=(2, 2), padding=(1, 1), bias=False)\n",
       "      (bn1): BatchNorm2d(512, eps=1e-05, momentum=0.1, affine=True, track_running_stats=True)\n",
       "      (relu): ReLU(inplace=True)\n",
       "      (conv2): Conv2d(512, 512, kernel_size=(3, 3), stride=(1, 1), padding=(1, 1), bias=False)\n",
       "      (bn2): BatchNorm2d(512, eps=1e-05, momentum=0.1, affine=True, track_running_stats=True)\n",
       "      (downsample): Sequential(\n",
       "        (0): Conv2d(256, 512, kernel_size=(1, 1), stride=(2, 2), bias=False)\n",
       "        (1): BatchNorm2d(512, eps=1e-05, momentum=0.1, affine=True, track_running_stats=True)\n",
       "      )\n",
       "    )\n",
       "    (1): BasicBlock(\n",
       "      (conv1): Conv2d(512, 512, kernel_size=(3, 3), stride=(1, 1), padding=(1, 1), bias=False)\n",
       "      (bn1): BatchNorm2d(512, eps=1e-05, momentum=0.1, affine=True, track_running_stats=True)\n",
       "      (relu): ReLU(inplace=True)\n",
       "      (conv2): Conv2d(512, 512, kernel_size=(3, 3), stride=(1, 1), padding=(1, 1), bias=False)\n",
       "      (bn2): BatchNorm2d(512, eps=1e-05, momentum=0.1, affine=True, track_running_stats=True)\n",
       "    )\n",
       "  )\n",
       "  (avgpool): AdaptiveAvgPool2d(output_size=(1, 1))\n",
       "  (fc): Linear(in_features=512, out_features=10, bias=True)\n",
       ")"
      ]
     },
     "execution_count": 16,
     "metadata": {},
     "output_type": "execute_result"
    }
   ],
   "source": [
    "# Load trained network\n",
    "PATH = os.path.join('results','current_resnet_20220319_0711.pt')\n",
    "# Modify output layer before loading trained weights\n",
    "net = torchvision.models.resnet18(pretrained=False)\n",
    "net.fc = nn.Linear(512,10)\n",
    "net.load_state_dict(torch.load(PATH))\n",
    "net.eval()"
   ]
  },
  {
   "cell_type": "code",
   "execution_count": 17,
   "metadata": {
    "executionInfo": {
     "elapsed": 6,
     "status": "ok",
     "timestamp": 1648470547531,
     "user": {
      "displayName": "jacob byrne",
      "photoUrl": "https://lh3.googleusercontent.com/a/default-user=s64",
      "userId": "05085560715297500670"
     },
     "user_tz": -60
    },
    "id": "R4NprUGUs-N4"
   },
   "outputs": [],
   "source": [
    "# Choose device and load model\n",
    "device = torch.device('cuda:0' if torch.cuda.is_available() else 'cpu')\n",
    "net = net.to(device)"
   ]
  },
  {
   "cell_type": "code",
   "execution_count": 19,
   "metadata": {
    "executionInfo": {
     "elapsed": 5,
     "status": "ok",
     "timestamp": 1648470547532,
     "user": {
      "displayName": "jacob byrne",
      "photoUrl": "https://lh3.googleusercontent.com/a/default-user=s64",
      "userId": "05085560715297500670"
     },
     "user_tz": -60
    },
    "id": "T5TYa_G05ncW"
   },
   "outputs": [],
   "source": [
    "import csv"
   ]
  },
  {
   "cell_type": "code",
   "execution_count": 20,
   "metadata": {
    "colab": {
     "base_uri": "https://localhost:8080/"
    },
    "executionInfo": {
     "elapsed": 12364,
     "status": "ok",
     "timestamp": 1648470559891,
     "user": {
      "displayName": "jacob byrne",
      "photoUrl": "https://lh3.googleusercontent.com/a/default-user=s64",
      "userId": "05085560715297500670"
     },
     "user_tz": -60
    },
    "id": "_Xd-iSsCmAuc",
    "outputId": "72e04bfa-0f0f-4ec7-ac09-0a3be3a7071f"
   },
   "outputs": [
    {
     "name": "stdout",
     "output_type": "stream",
     "text": [
      "Files already downloaded and verified\n"
     ]
    }
   ],
   "source": [
    "\n",
    "start = time.time()\n",
    "sStartTime = datetime.datetime.now().strftime(\"%Y_%m_%d_%H_%M_%S\")\n",
    "file_name = 'norm_diff_resnet' + sStartTime + '.csv'\n",
    "\n",
    "csv_path = os.path.join('results',file_name)\n",
    "\n",
    "\n",
    "header = ['eps','y0_diff','y_diff']\n",
    "with open(csv_path,'w') as f:\n",
    "  writer = csv.writer(f)\n",
    "  writer.writerow(header)\n",
    "  eps = 0.3\n",
    "\n",
    "  hueTransform = transforms.Compose(\n",
    "    [lambda x: transforms.functional.adjust_hue(x,hue_factor=eps),\n",
    "      transforms.ToTensor(),\n",
    "      shift]\n",
    "  )\n",
    "\n",
    "  hueSet = torchvision.datasets.CIFAR10(root='./data', train=False,\n",
    "                                            download=True, transform=hueTransform)\n",
    "  hueLoader = torch.utils.data.DataLoader(hueSet, batch_size=batch_size,\n",
    "                                            shuffle=False)\n",
    "\n",
    "  # iterate over the mini-batches of normal and perturbed inputs together\n",
    "  for data, data_tild in zip(testLoader,hueLoader):\n",
    "    images = data[0]\n",
    "    images_hue = data_tild[0]\n",
    "\n",
    "    images = images.to(device)\n",
    "    images_hue = images_hue.to(device)\n",
    "    \n",
    "    #Pass both batches of images through network\n",
    "    outputs = net(images)\n",
    "    outputs_hue = net(images_hue)\n",
    "    for i in range(len(images)):\n",
    "      # Find initial values\n",
    "      y0 = images[i]\n",
    "      y0_tild = images_hue[i]\n",
    "      \n",
    "      # Find final values\n",
    "      y = outputs[i]\n",
    "      y_tild = outputs_hue[i]\n",
    "\n",
    "      # Take norms and save\n",
    "      norm_init = torch.linalg.norm(y0-y0_tild)\n",
    "      norm_final = torch.linalg.norm(y-y_tild)\n",
    "      writer.writerow([eps,norm_init.item(),norm_final.item()])"
   ]
  }
 ],
 "metadata": {
  "accelerator": "GPU",
  "colab": {
   "authorship_tag": "ABX9TyNdbj0/kN+h7hXvD9xM/H0l",
   "collapsed_sections": [],
   "name": "ResNet Norm Testing.ipynb",
   "provenance": [
    {
     "file_id": "10CZQlc12y-dxJlln9qORJCxN1JQ2BUeU",
     "timestamp": 1648469955149
    }
   ]
  },
  "kernelspec": {
   "display_name": "Python 3",
   "language": "python",
   "name": "python3"
  },
  "language_info": {
   "codemirror_mode": {
    "name": "ipython",
    "version": 3
   },
   "file_extension": ".py",
   "mimetype": "text/x-python",
   "name": "python",
   "nbconvert_exporter": "python",
   "pygments_lexer": "ipython3",
   "version": "3.8.8"
  }
 },
 "nbformat": 4,
 "nbformat_minor": 1
}
