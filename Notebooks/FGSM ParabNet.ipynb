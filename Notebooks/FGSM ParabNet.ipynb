{
 "cells": [
  {
   "cell_type": "code",
   "execution_count": 1,
   "metadata": {
    "colab": {
     "base_uri": "https://localhost:8080/"
    },
    "executionInfo": {
     "elapsed": 2023,
     "status": "ok",
     "timestamp": 1650744084664,
     "user": {
      "displayName": "jacob byrne",
      "userId": "05085560715297500670"
     },
     "user_tz": -60
    },
    "id": "Lh_j9zM6ravn",
    "outputId": "36a84ab2-6c5c-402f-9216-796ef582f8ca"
   },
   "outputs": [
    {
     "name": "stdout",
     "output_type": "stream",
     "text": [
      "Drive already mounted at /content/drive; to attempt to forcibly remount, call drive.mount(\"/content/drive\", force_remount=True).\n"
     ]
    }
   ],
   "source": [
    "from google.colab import drive\n",
    "drive.mount('/content/drive')"
   ]
  },
  {
   "cell_type": "code",
   "execution_count": 2,
   "metadata": {
    "colab": {
     "base_uri": "https://localhost:8080/"
    },
    "executionInfo": {
     "elapsed": 16,
     "status": "ok",
     "timestamp": 1650744084665,
     "user": {
      "displayName": "jacob byrne",
      "userId": "05085560715297500670"
     },
     "user_tz": -60
    },
    "id": "KYGOAle7sTjk",
    "outputId": "2427a304-8516-4881-8270-6b70036bc21a"
   },
   "outputs": [
    {
     "name": "stdout",
     "output_type": "stream",
     "text": [
      "/content/drive/MyDrive/YLP\n"
     ]
    }
   ],
   "source": [
    "%cd /content/drive/MyDrive/YLP"
   ]
  },
  {
   "cell_type": "code",
   "execution_count": null,
   "metadata": {},
   "outputs": [],
   "source": [
    "# Unless mentioned, code is from:\n",
    "# Adversarial Example Generation, Inkawhich, N. and Uriegas, E.,  2018, Available from: https://github.com/pytorch/tutorials/blob/master/beginner_source/fgsm_tutorial.py , Accessed: 20 Feb 2022"
   ]
  },
  {
   "cell_type": "code",
   "execution_count": 4,
   "metadata": {
    "colab": {
     "base_uri": "https://localhost:8080/"
    },
    "executionInfo": {
     "elapsed": 997,
     "status": "ok",
     "timestamp": 1650744085658,
     "user": {
      "displayName": "jacob byrne",
      "userId": "05085560715297500670"
     },
     "user_tz": -60
    },
    "id": "VS3Y8AYCtbRm",
    "outputId": "9543b134-c087-410d-a285-e947ad4dcd25"
   },
   "outputs": [
    {
     "data": {
      "text/plain": [
       "<torch._C.Generator at 0x7fd026d4e310>"
      ]
     },
     "execution_count": 4,
     "metadata": {},
     "output_type": "execute_result"
    }
   ],
   "source": [
    "from __future__ import print_function\n",
    "import torch\n",
    "import torch.nn as nn\n",
    "import torch.nn.functional as F\n",
    "import torch.optim as optim\n",
    "from torchvision import datasets, transforms\n",
    "import torchvision\n",
    "import numpy as np\n",
    "import matplotlib.pyplot as plt\n",
    "import os\n",
    "import time\n",
    "import datetime\n",
    "import csv\n",
    "from RKNet import RKNet\n",
    "\n",
    "# NOTE: This is a hack to get around \"User-agent\" limitations when downloading MNIST datasets\n",
    "#       see, https://github.com/pytorch/vision/issues/3497 for more information\n",
    "from six.moves import urllib\n",
    "opener = urllib.request.build_opener()\n",
    "opener.addheaders = [('User-agent', 'Mozilla/5.0')]\n",
    "urllib.request.install_opener(opener)\n"
   ]
  },
  {
   "cell_type": "code",
   "execution_count": 5,
   "metadata": {
    "executionInfo": {
     "elapsed": 6,
     "status": "ok",
     "timestamp": 1650744085659,
     "user": {
      "displayName": "jacob byrne",
      "userId": "05085560715297500670"
     },
     "user_tz": -60
    },
    "id": "jEd2ub_Ftv3w"
   },
   "outputs": [],
   "source": [
    "## JB Code Block ##\n",
    "\n",
    "epsilons = [2**(-7), 2**(-6), 2**(-5), 2**(-4), 2**(-3), 2**(-2), 2**(-1)]\n",
    "print(epsilons)\n",
    "\n",
    "\n",
    "# filename for trained parabolic network\n",
    "pretrained_model = os.path.join('results',\"current_pdenet.pt\")\n",
    "use_cuda=True"
   ]
  },
  {
   "cell_type": "code",
   "execution_count": 7,
   "metadata": {
    "colab": {
     "base_uri": "https://localhost:8080/"
    },
    "executionInfo": {
     "elapsed": 1579,
     "status": "ok",
     "timestamp": 1650744087235,
     "user": {
      "displayName": "jacob byrne",
      "userId": "05085560715297500670"
     },
     "user_tz": -60
    },
    "id": "xAW3t-3Yt0P3",
    "outputId": "03a8dfc8-e68d-4906-8168-fb7e430141d8"
   },
   "outputs": [
    {
     "name": "stdout",
     "output_type": "stream",
     "text": [
      "Files already downloaded and verified\n",
      "CUDA Available:  True\n"
     ]
    }
   ],
   "source": [
    "## JB Code Block ##\n",
    "\n",
    "# Transform to normalize \n",
    "shift = transforms.Normalize(\n",
    "    mean=[0.5,0.5,0.5],\n",
    "    std=[1.,1.,1.],\n",
    "  )\n",
    "\n",
    "# CIFAR-10 test dataset and dataloader declaration\n",
    "test_data =  datasets.CIFAR10('../data', train=False, download=True, transform=transforms.Compose([\n",
    "            transforms.ToTensor(),\n",
    "            shift]))\n",
    "\n",
    "test_loader = torch.utils.data.DataLoader(test_data, batch_size=1, shuffle=False)\n",
    "\n",
    "# Define what device we are using\n",
    "print(\"CUDA Available: \",torch.cuda.is_available())\n",
    "device = torch.device(\"cuda\" if (use_cuda and torch.cuda.is_available()) else \"cpu\")"
   ]
  },
  {
   "cell_type": "code",
   "execution_count": 9,
   "metadata": {
    "executionInfo": {
     "elapsed": 4641,
     "status": "ok",
     "timestamp": 1650744091874,
     "user": {
      "displayName": "jacob byrne",
      "userId": "05085560715297500670"
     },
     "user_tz": -60
    },
    "id": "vHeT5O9pjLUr"
   },
   "outputs": [],
   "source": [
    "## JB Code Block ##\n",
    "\n",
    "# Load parabolic network\n",
    "model = torch.load(pretrained_model)\n",
    "# Load model to GPU\n",
    "model = model.to(device)"
   ]
  },
  {
   "cell_type": "code",
   "execution_count": 10,
   "metadata": {
    "executionInfo": {
     "elapsed": 10,
     "status": "ok",
     "timestamp": 1650744091875,
     "user": {
      "displayName": "jacob byrne",
      "userId": "05085560715297500670"
     },
     "user_tz": -60
    },
    "id": "8YAqfC930VlV"
   },
   "outputs": [],
   "source": [
    "# FGSM attack code\n",
    "def fgsm_attack(image, epsilon, data_grad):\n",
    "    if epsilon == 0:\n",
    "      return image\n",
    "    # Collect the element-wise sign of the data gradient\n",
    "    sign_data_grad = data_grad.sign()\n",
    "    # Create the perturbed image by adjusting each pixel of the input image\n",
    "    perturbed_image = image + epsilon*sign_data_grad\n",
    "    # Adding clipping to maintain [0,1] range\n",
    "    perturbed_image = torch.clamp(perturbed_image, 0, 1)\n",
    "    # Return the perturbed image\n",
    "    return perturbed_image"
   ]
  },
  {
   "cell_type": "code",
   "execution_count": 11,
   "metadata": {
    "executionInfo": {
     "elapsed": 10,
     "status": "ok",
     "timestamp": 1650744091876,
     "user": {
      "displayName": "jacob byrne",
      "userId": "05085560715297500670"
     },
     "user_tz": -60
    },
    "id": "Iuybhtuw0WV0"
   },
   "outputs": [],
   "source": [
    "def test( model, device, test_loader, epsilon ):\n",
    "\n",
    "    # Accuracy counter\n",
    "    correct = 0\n",
    "    adv_examples = []\n",
    "    \n",
    "    # JB code line: keep track of incorrect examples as they are not attacked\n",
    "    incorrect_init = 0\n",
    "\n",
    "  \n",
    "    # Loop over all examples in test set\n",
    "    for data, target in test_loader:\n",
    "\n",
    "        data, target = data.to(device), target.to(device)\n",
    "\n",
    "\n",
    "        # Set requires_grad attribute of tensor. Important for Attack\n",
    "        data.requires_grad = True\n",
    "\n",
    "        # Forward pass the data through the model\n",
    "        output = model(data)\n",
    "        \n",
    "        init_pred = output.max(1, keepdim=True)[1] # get the index of the max log-probability\n",
    "\n",
    "        # If the initial prediction is wrong, dont bother attacking, just move on\n",
    "        if init_pred.item() != target.item():\n",
    "          incorrect_init += 1\n",
    "          continue\n",
    "\n",
    "        # Calculate the loss\n",
    "        loss = F.nll_loss(output, target)\n",
    "\n",
    "        # Zero all existing gradients\n",
    "        model.zero_grad()\n",
    "\n",
    "        # Calculate gradients of model in backward pass\n",
    "        loss.backward()\n",
    "\n",
    "        # Collect datagrad\n",
    "        data_grad = data.grad.data\n",
    "\n",
    "        # Call FGSM Attack\n",
    "        perturbed_data = fgsm_attack(data, epsilon, data_grad)\n",
    "\n",
    "        # Re-classify the perturbed image\n",
    "        output = model(perturbed_data)\n",
    "\n",
    "        # Check for success\n",
    "        final_pred = output.max(1, keepdim=True)[1] # get the index of the max log-probability\n",
    "        if final_pred.item() == target.item():\n",
    "            correct += 1\n",
    "            # Special case for saving 0 epsilon examples\n",
    "            if (epsilon == 0) and (len(adv_examples) < 5):\n",
    "                adv_ex = perturbed_data.squeeze().detach().cpu().numpy()\n",
    "                adv_examples.append( (init_pred.item(), final_pred.item(), adv_ex) )\n",
    "        else:\n",
    "            # Save some adv examples for visualization later\n",
    "            if len(adv_examples) < 5:\n",
    "                adv_ex = perturbed_data.squeeze().detach().cpu().numpy()\n",
    "                adv_examples.append( (init_pred.item(), final_pred.item(), adv_ex) )\n",
    "\n",
    "    # Calculate final accuracy for this epsilon\n",
    "    fgsm_tested = len(test_loader)-incorrect_init\n",
    "    \n",
    "    # JB code line: accuracy is only out of examples that were FGSM tested\n",
    "    final_acc = correct/float(fgsm_tested)\n",
    "    # Original line: final_acc= correct/float(len(test_loader))\n",
    "    \n",
    "    # JB code line: match print-out with changes in line above\n",
    "    print(\"Epsilon: {}\\tTest Accuracy = {} / {} = {}\".format(epsilon, correct, fgsm_tested, final_acc))\n",
    "\n",
    "    # Return the accuracy and an adversarial example\n",
    "    return final_acc, adv_examples"
   ]
  },
  {
   "cell_type": "code",
   "execution_count": 12,
   "metadata": {
    "colab": {
     "base_uri": "https://localhost:8080/"
    },
    "executionInfo": {
     "elapsed": 8137536,
     "status": "ok",
     "timestamp": 1650752229402,
     "user": {
      "displayName": "jacob byrne",
      "userId": "05085560715297500670"
     },
     "user_tz": -60
    },
    "id": "EVtDAioW0Xv1",
    "outputId": "f55418bb-39ca-4c93-d647-3617c81d9531"
   },
   "outputs": [
    {
     "name": "stdout",
     "output_type": "stream",
     "text": [
      "Epsilon: 0\tTest Accuracy = 8471 / 8471 = 1.0\n",
      "Epsilon: 0.0078125\tTest Accuracy = 2738 / 8471 = 0.3232203990083815\n",
      "Epsilon: 0.015625\tTest Accuracy = 1820 / 8471 = 0.21485066698146618\n",
      "Epsilon: 0.03125\tTest Accuracy = 1356 / 8471 = 0.16007555188289457\n",
      "Epsilon: 0.0625\tTest Accuracy = 1199 / 8471 = 0.14154173061031755\n",
      "Epsilon: 0.125\tTest Accuracy = 1144 / 8471 = 0.13504899067406445\n",
      "Epsilon: 0.25\tTest Accuracy = 1022 / 8471 = 0.12064691299728486\n",
      "Epsilon: 0.5\tTest Accuracy = 861 / 8471 = 0.10164089245661669\n"
     ]
    }
   ],
   "source": [
    "accuracies = []\n",
    "examples = []\n",
    "\n",
    "# Run test for each epsilon\n",
    "for eps in epsilons:\n",
    "    acc, ex = test(model, device, test_loader, eps)\n",
    "    accuracies.append(acc)\n",
    "    examples.append(ex)"
   ]
  }
 ],
 "metadata": {
  "accelerator": "GPU",
  "colab": {
   "authorship_tag": "ABX9TyOMIOiJOeIGCVhPv0sxkz3r",
   "collapsed_sections": [],
   "name": "FGSM ParabNet.ipynb",
   "provenance": []
  },
  "kernelspec": {
   "display_name": "Python 3",
   "language": "python",
   "name": "python3"
  },
  "language_info": {
   "codemirror_mode": {
    "name": "ipython",
    "version": 3
   },
   "file_extension": ".py",
   "mimetype": "text/x-python",
   "name": "python",
   "nbconvert_exporter": "python",
   "pygments_lexer": "ipython3",
   "version": "3.8.8"
  }
 },
 "nbformat": 4,
 "nbformat_minor": 1
}
