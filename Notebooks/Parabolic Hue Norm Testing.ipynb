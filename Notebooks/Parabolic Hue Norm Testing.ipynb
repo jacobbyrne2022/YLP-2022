{
 "cells": [
  {
   "cell_type": "code",
   "execution_count": 47,
   "metadata": {
    "colab": {
     "base_uri": "https://localhost:8080/"
    },
    "executionInfo": {
     "elapsed": 1893,
     "status": "ok",
     "timestamp": 1648457013763,
     "user": {
      "displayName": "jacob byrne",
      "photoUrl": "https://lh3.googleusercontent.com/a/default-user=s64",
      "userId": "05085560715297500670"
     },
     "user_tz": -60
    },
    "id": "Lh_j9zM6ravn",
    "outputId": "c2774f3a-a67c-4dda-88e9-e4fbfbd3b918"
   },
   "outputs": [
    {
     "name": "stdout",
     "output_type": "stream",
     "text": [
      "Drive already mounted at /content/drive; to attempt to forcibly remount, call drive.mount(\"/content/drive\", force_remount=True).\n"
     ]
    }
   ],
   "source": [
    "from google.colab import drive\n",
    "drive.mount('/content/drive')"
   ]
  },
  {
   "cell_type": "code",
   "execution_count": 48,
   "metadata": {
    "colab": {
     "base_uri": "https://localhost:8080/"
    },
    "executionInfo": {
     "elapsed": 3,
     "status": "ok",
     "timestamp": 1648457013763,
     "user": {
      "displayName": "jacob byrne",
      "photoUrl": "https://lh3.googleusercontent.com/a/default-user=s64",
      "userId": "05085560715297500670"
     },
     "user_tz": -60
    },
    "id": "-DyDzO0blag-",
    "outputId": "54de54e4-3b4e-4c29-b6a6-c52e792caf19"
   },
   "outputs": [
    {
     "name": "stdout",
     "output_type": "stream",
     "text": [
      "/content/drive/MyDrive/YLP\n"
     ]
    }
   ],
   "source": [
    "%cd /content/drive/MyDrive/YLP"
   ]
  },
  {
   "cell_type": "code",
   "execution_count": 74,
   "metadata": {
    "executionInfo": {
     "elapsed": 281,
     "status": "ok",
     "timestamp": 1648461171733,
     "user": {
      "displayName": "jacob byrne",
      "photoUrl": "https://lh3.googleusercontent.com/a/default-user=s64",
      "userId": "05085560715297500670"
     },
     "user_tz": -60
    },
    "id": "CQ8z3v8MY0zL"
   },
   "outputs": [],
   "source": [
    "from RKNet import RKNet\n",
    "import torch\n",
    "import torch.nn as nn\n",
    "import torch.nn.functional as F\n",
    "import matplotlib.pyplot as plt\n",
    "import numpy as np\n",
    "import torchvision\n",
    "import torchvision.transforms as transforms\n",
    "import os\n",
    "import time\n",
    "import datetime"
   ]
  },
  {
   "cell_type": "code",
   "execution_count": 50,
   "metadata": {
    "colab": {
     "base_uri": "https://localhost:8080/"
    },
    "executionInfo": {
     "elapsed": 2560,
     "status": "ok",
     "timestamp": 1648457017770,
     "user": {
      "displayName": "jacob byrne",
      "photoUrl": "https://lh3.googleusercontent.com/a/default-user=s64",
      "userId": "05085560715297500670"
     },
     "user_tz": -60
    },
    "id": "sSh_aCq2ltwf",
    "outputId": "253ad498-f913-4e21-e127-8fb0cdb37e2b"
   },
   "outputs": [
    {
     "name": "stdout",
     "output_type": "stream",
     "text": [
      "Files already downloaded and verified\n",
      "Files already downloaded and verified\n"
     ]
    }
   ],
   "source": [
    "batch_size = 250\n",
    "\n",
    "shift = transforms.Normalize(\n",
    "    mean=[0.5,0.5,0.5],\n",
    "    std=[1.,1.,1.],\n",
    "  )\n",
    "\n",
    "# Load standard images for control purposes\n",
    "transformTest = transforms.Compose(\n",
    "    [transforms.ToTensor(),\n",
    "     shift])\n",
    "\n",
    "\n",
    "testSet = torchvision.datasets.CIFAR10(root='./data', train=False,\n",
    "                                           download=True, transform=transformTest)\n",
    "testLoader = torch.utils.data.DataLoader(testSet, batch_size=batch_size,\n",
    "                                          shuffle=False)\n",
    "\n",
    "eps = 0.05\n",
    "\n",
    "# Perturb testing images\n",
    "hueTransform = transforms.Compose(\n",
    "[lambda x: transforms.functional.adjust_hue(x,hue_factor=eps),\n",
    "  transforms.ToTensor(),\n",
    "  shift]\n",
    ")\n",
    "\n",
    "hueSet = torchvision.datasets.CIFAR10(root='./data', train=False,\n",
    "                                        download=True, transform=hueTransform)\n",
    "hueLoader = torch.utils.data.DataLoader(hueSet, batch_size=batch_size,\n",
    "                                        shuffle=False)\n",
    "\n",
    "classes = ('plane', 'car', 'bird', 'cat',\n",
    "           'deer', 'dog', 'frog', 'horse', 'ship', 'truck')"
   ]
  },
  {
   "cell_type": "code",
   "execution_count": 57,
   "metadata": {
    "executionInfo": {
     "elapsed": 282,
     "status": "ok",
     "timestamp": 1648457185953,
     "user": {
      "displayName": "jacob byrne",
      "photoUrl": "https://lh3.googleusercontent.com/a/default-user=s64",
      "userId": "05085560715297500670"
     },
     "user_tz": -60
    },
    "id": "NCdBsNUSlt8q"
   },
   "outputs": [],
   "source": [
    "def imshow(img):\n",
    "  img = img / 2 + 0.5\n",
    "  npimg = img.cpu().numpy()\n",
    "  plt.imshow(np.transpose(npimg, (1, 2, 0)))\n",
    "  plt.show()"
   ]
  },
  {
   "cell_type": "code",
   "execution_count": 52,
   "metadata": {
    "colab": {
     "base_uri": "https://localhost:8080/"
    },
    "executionInfo": {
     "elapsed": 273,
     "status": "ok",
     "timestamp": 1648457020958,
     "user": {
      "displayName": "jacob byrne",
      "photoUrl": "https://lh3.googleusercontent.com/a/default-user=s64",
      "userId": "05085560715297500670"
     },
     "user_tz": -60
    },
    "id": "9mCC_G_LYsv4",
    "outputId": "ae5bab77-9a59-4b32-8e64-fb8978eadff0"
   },
   "outputs": [
    {
     "data": {
      "text/plain": [
       "RKNet(\n",
       "  (dynamicBlocks): ModuleList(\n",
       "    (0): rk4(\n",
       "      (controlLayers): ModuleList(\n",
       "        (0): DoubleSymLayer(\n",
       "          (conv): Conv2d(16, 16, kernel_size=(3, 3), stride=(1, 1), padding=(1, 1))\n",
       "          (act): ReLU()\n",
       "          (normLayer): TvNorm()\n",
       "          (convt): ConvTranspose2d(16, 16, kernel_size=(3, 3), stride=(1, 1), padding=(1, 1))\n",
       "        )\n",
       "        (1): DoubleSymLayer(\n",
       "          (conv): Conv2d(16, 16, kernel_size=(3, 3), stride=(1, 1), padding=(1, 1))\n",
       "          (act): ReLU()\n",
       "          (normLayer): TvNorm()\n",
       "          (convt): ConvTranspose2d(16, 16, kernel_size=(3, 3), stride=(1, 1), padding=(1, 1))\n",
       "        )\n",
       "        (2): DoubleSymLayer(\n",
       "          (conv): Conv2d(16, 16, kernel_size=(3, 3), stride=(1, 1), padding=(1, 1))\n",
       "          (act): ReLU()\n",
       "          (normLayer): TvNorm()\n",
       "          (convt): ConvTranspose2d(16, 16, kernel_size=(3, 3), stride=(1, 1), padding=(1, 1))\n",
       "        )\n",
       "        (3): DoubleSymLayer(\n",
       "          (conv): Conv2d(16, 16, kernel_size=(3, 3), stride=(1, 1), padding=(1, 1))\n",
       "          (act): ReLU()\n",
       "          (normLayer): TvNorm()\n",
       "          (convt): ConvTranspose2d(16, 16, kernel_size=(3, 3), stride=(1, 1), padding=(1, 1))\n",
       "        )\n",
       "        (4): DoubleSymLayer(\n",
       "          (conv): Conv2d(16, 16, kernel_size=(3, 3), stride=(1, 1), padding=(1, 1))\n",
       "          (act): ReLU()\n",
       "          (normLayer): TvNorm()\n",
       "          (convt): ConvTranspose2d(16, 16, kernel_size=(3, 3), stride=(1, 1), padding=(1, 1))\n",
       "        )\n",
       "      )\n",
       "    )\n",
       "    (1): rk4(\n",
       "      (controlLayers): ModuleList(\n",
       "        (0): DoubleSymLayer(\n",
       "          (conv): Conv2d(32, 32, kernel_size=(3, 3), stride=(1, 1), padding=(1, 1))\n",
       "          (act): ReLU()\n",
       "          (normLayer): TvNorm()\n",
       "          (convt): ConvTranspose2d(32, 32, kernel_size=(3, 3), stride=(1, 1), padding=(1, 1))\n",
       "        )\n",
       "        (1): DoubleSymLayer(\n",
       "          (conv): Conv2d(32, 32, kernel_size=(3, 3), stride=(1, 1), padding=(1, 1))\n",
       "          (act): ReLU()\n",
       "          (normLayer): TvNorm()\n",
       "          (convt): ConvTranspose2d(32, 32, kernel_size=(3, 3), stride=(1, 1), padding=(1, 1))\n",
       "        )\n",
       "        (2): DoubleSymLayer(\n",
       "          (conv): Conv2d(32, 32, kernel_size=(3, 3), stride=(1, 1), padding=(1, 1))\n",
       "          (act): ReLU()\n",
       "          (normLayer): TvNorm()\n",
       "          (convt): ConvTranspose2d(32, 32, kernel_size=(3, 3), stride=(1, 1), padding=(1, 1))\n",
       "        )\n",
       "        (3): DoubleSymLayer(\n",
       "          (conv): Conv2d(32, 32, kernel_size=(3, 3), stride=(1, 1), padding=(1, 1))\n",
       "          (act): ReLU()\n",
       "          (normLayer): TvNorm()\n",
       "          (convt): ConvTranspose2d(32, 32, kernel_size=(3, 3), stride=(1, 1), padding=(1, 1))\n",
       "        )\n",
       "        (4): DoubleSymLayer(\n",
       "          (conv): Conv2d(32, 32, kernel_size=(3, 3), stride=(1, 1), padding=(1, 1))\n",
       "          (act): ReLU()\n",
       "          (normLayer): TvNorm()\n",
       "          (convt): ConvTranspose2d(32, 32, kernel_size=(3, 3), stride=(1, 1), padding=(1, 1))\n",
       "        )\n",
       "      )\n",
       "    )\n",
       "    (2): rk4(\n",
       "      (controlLayers): ModuleList(\n",
       "        (0): DoubleSymLayer(\n",
       "          (conv): Conv2d(64, 64, kernel_size=(3, 3), stride=(1, 1), padding=(1, 1))\n",
       "          (act): ReLU()\n",
       "          (normLayer): TvNorm()\n",
       "          (convt): ConvTranspose2d(64, 64, kernel_size=(3, 3), stride=(1, 1), padding=(1, 1))\n",
       "        )\n",
       "        (1): DoubleSymLayer(\n",
       "          (conv): Conv2d(64, 64, kernel_size=(3, 3), stride=(1, 1), padding=(1, 1))\n",
       "          (act): ReLU()\n",
       "          (normLayer): TvNorm()\n",
       "          (convt): ConvTranspose2d(64, 64, kernel_size=(3, 3), stride=(1, 1), padding=(1, 1))\n",
       "        )\n",
       "        (2): DoubleSymLayer(\n",
       "          (conv): Conv2d(64, 64, kernel_size=(3, 3), stride=(1, 1), padding=(1, 1))\n",
       "          (act): ReLU()\n",
       "          (normLayer): TvNorm()\n",
       "          (convt): ConvTranspose2d(64, 64, kernel_size=(3, 3), stride=(1, 1), padding=(1, 1))\n",
       "        )\n",
       "        (3): DoubleSymLayer(\n",
       "          (conv): Conv2d(64, 64, kernel_size=(3, 3), stride=(1, 1), padding=(1, 1))\n",
       "          (act): ReLU()\n",
       "          (normLayer): TvNorm()\n",
       "          (convt): ConvTranspose2d(64, 64, kernel_size=(3, 3), stride=(1, 1), padding=(1, 1))\n",
       "        )\n",
       "        (4): DoubleSymLayer(\n",
       "          (conv): Conv2d(64, 64, kernel_size=(3, 3), stride=(1, 1), padding=(1, 1))\n",
       "          (act): ReLU()\n",
       "          (normLayer): TvNorm()\n",
       "          (convt): ConvTranspose2d(64, 64, kernel_size=(3, 3), stride=(1, 1), padding=(1, 1))\n",
       "        )\n",
       "      )\n",
       "    )\n",
       "  )\n",
       "  (connectors): ModuleList(\n",
       "    (0): ConnectingLayer(\n",
       "      (conv): Conv2d(16, 32, kernel_size=(1, 1), stride=(1, 1))\n",
       "      (act): ReLU()\n",
       "      (normLayer): BatchNorm2d(32, eps=0.0001, momentum=0.1, affine=True, track_running_stats=True)\n",
       "    )\n",
       "    (1): ConnectingLayer(\n",
       "      (conv): Conv2d(32, 64, kernel_size=(1, 1), stride=(1, 1))\n",
       "      (act): ReLU()\n",
       "      (normLayer): BatchNorm2d(64, eps=0.0001, momentum=0.1, affine=True, track_running_stats=True)\n",
       "    )\n",
       "    (2): ConnectingLayer(\n",
       "      (conv): Conv2d(64, 64, kernel_size=(1, 1), stride=(1, 1))\n",
       "      (act): ReLU()\n",
       "      (normLayer): BatchNorm2d(64, eps=0.0001, momentum=0.1, affine=True, track_running_stats=True)\n",
       "    )\n",
       "  )\n",
       "  (open): ConnectingLayer(\n",
       "    (conv): Conv2d(3, 16, kernel_size=(3, 3), stride=(1, 1), padding=(1, 1))\n",
       "    (act): ReLU()\n",
       "    (normLayer): BatchNorm2d(16, eps=0.0001, momentum=0.1, affine=True, track_running_stats=True)\n",
       "  )\n",
       "  (linear): Linear(in_features=64, out_features=10, bias=True)\n",
       ")"
      ]
     },
     "execution_count": 52,
     "metadata": {},
     "output_type": "execute_result"
    }
   ],
   "source": [
    "# Load trained network\n",
    "PATH = os.path.join('results','current_pdenet.pt')\n",
    "net = torch.load(PATH)\n",
    "# Eval only needed\n",
    "net.eval()"
   ]
  },
  {
   "cell_type": "code",
   "execution_count": 54,
   "metadata": {
    "executionInfo": {
     "elapsed": 283,
     "status": "ok",
     "timestamp": 1648457155805,
     "user": {
      "displayName": "jacob byrne",
      "photoUrl": "https://lh3.googleusercontent.com/a/default-user=s64",
      "userId": "05085560715297500670"
     },
     "user_tz": -60
    },
    "id": "R4NprUGUs-N4"
   },
   "outputs": [],
   "source": [
    "# Choose device and load model\n",
    "device = torch.device('cuda:0' if torch.cuda.is_available() else 'cpu')\n",
    "net = net.to(device)"
   ]
  },
  {
   "cell_type": "code",
   "execution_count": 72,
   "metadata": {
    "executionInfo": {
     "elapsed": 2,
     "status": "ok",
     "timestamp": 1648460843923,
     "user": {
      "displayName": "jacob byrne",
      "photoUrl": "https://lh3.googleusercontent.com/a/default-user=s64",
      "userId": "05085560715297500670"
     },
     "user_tz": -60
    },
    "id": "T5TYa_G05ncW"
   },
   "outputs": [],
   "source": [
    "import csv"
   ]
  },
  {
   "cell_type": "code",
   "execution_count": 77,
   "metadata": {
    "colab": {
     "base_uri": "https://localhost:8080/"
    },
    "executionInfo": {
     "elapsed": 15204,
     "status": "ok",
     "timestamp": 1648461373089,
     "user": {
      "displayName": "jacob byrne",
      "photoUrl": "https://lh3.googleusercontent.com/a/default-user=s64",
      "userId": "05085560715297500670"
     },
     "user_tz": -60
    },
    "id": "_Xd-iSsCmAuc",
    "outputId": "122a438c-0b7b-4902-b149-deb7cde29750"
   },
   "outputs": [
    {
     "name": "stdout",
     "output_type": "stream",
     "text": [
      "Files already downloaded and verified\n"
     ]
    }
   ],
   "source": [
    "\n",
    "start = time.time()\n",
    "sStartTime = datetime.datetime.now().strftime(\"%Y_%m_%d_%H_%M_%S\")\n",
    "file_name = 'norm_diff_parabolic' + sStartTime + '.csv'\n",
    "\n",
    "csv_path = os.path.join('results',file_name)\n",
    "\n",
    "\n",
    "header = ['eps','y0_diff','y_diff']\n",
    "with open(csv_path,'w') as f:\n",
    "  writer = csv.writer(f)\n",
    "  writer.writerow(header)\n",
    "  \n",
    "\n",
    "  # iterate over the mini-batches of normal and perturbed inputs together\n",
    "  for data, data_tild in zip(testLoader,hueLoader):\n",
    "    \n",
    "    images = data[0]\n",
    "    images_hue = data_tild[0]\n",
    "\n",
    "    images = images.to(device)\n",
    "    images_hue = images_hue.to(device)\n",
    "    \n",
    "    \n",
    "    # Pass both batches of images through network\n",
    "    outputs = net(images)\n",
    "    outputs_hue = net(images_hue)\n",
    "    # iterate through the mini-batch\n",
    "    for i in range(len(images)):\n",
    "      # Find initial values\n",
    "      y0 = images[i]\n",
    "      y0_tild = images_hue[i]\n",
    "        \n",
    "      # Find final values\n",
    "      y = outputs[i]\n",
    "      y_tild = outputs_hue[i]\n",
    "\n",
    "      # Take norms and save\n",
    "      norm_init = torch.linalg.norm(y0-y0_tild)\n",
    "      norm_final = torch.linalg.norm(y-y_tild)\n",
    "      writer.writerow([eps,norm_init.item(),norm_final.item()])"
   ]
  }
 ],
 "metadata": {
  "colab": {
   "authorship_tag": "ABX9TyMMnoJHbpvyClcWsqEgM1xw",
   "collapsed_sections": [],
   "name": "Frobenius Norm Testing.ipynb",
   "provenance": []
  },
  "kernelspec": {
   "display_name": "Python 3",
   "language": "python",
   "name": "python3"
  },
  "language_info": {
   "codemirror_mode": {
    "name": "ipython",
    "version": 3
   },
   "file_extension": ".py",
   "mimetype": "text/x-python",
   "name": "python",
   "nbconvert_exporter": "python",
   "pygments_lexer": "ipython3",
   "version": "3.8.8"
  }
 },
 "nbformat": 4,
 "nbformat_minor": 1
}
