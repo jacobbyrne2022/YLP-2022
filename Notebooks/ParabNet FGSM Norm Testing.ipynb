{
 "cells": [
  {
   "cell_type": "code",
   "execution_count": 10,
   "metadata": {
    "colab": {
     "base_uri": "https://localhost:8080/"
    },
    "executionInfo": {
     "elapsed": 1963,
     "status": "ok",
     "timestamp": 1649246273501,
     "user": {
      "displayName": "jacob byrne",
      "userId": "05085560715297500670"
     },
     "user_tz": -60
    },
    "id": "Lh_j9zM6ravn",
    "outputId": "def21e64-1b4d-4961-e423-f803000f1ef1"
   },
   "outputs": [
    {
     "name": "stdout",
     "output_type": "stream",
     "text": [
      "Drive already mounted at /content/drive; to attempt to forcibly remount, call drive.mount(\"/content/drive\", force_remount=True).\n"
     ]
    }
   ],
   "source": [
    "from google.colab import drive\n",
    "drive.mount('/content/drive')"
   ]
  },
  {
   "cell_type": "code",
   "execution_count": 11,
   "metadata": {
    "colab": {
     "base_uri": "https://localhost:8080/"
    },
    "executionInfo": {
     "elapsed": 12,
     "status": "ok",
     "timestamp": 1649246273501,
     "user": {
      "displayName": "jacob byrne",
      "userId": "05085560715297500670"
     },
     "user_tz": -60
    },
    "id": "KYGOAle7sTjk",
    "outputId": "ccce4456-8ecc-47e5-8d77-34f10f2434b4"
   },
   "outputs": [
    {
     "name": "stdout",
     "output_type": "stream",
     "text": [
      "/content/drive/MyDrive/YLP\n"
     ]
    }
   ],
   "source": [
    "%cd /content/drive/MyDrive/YLP"
   ]
  },
  {
   "cell_type": "code",
   "execution_count": null,
   "metadata": {},
   "outputs": [],
   "source": [
    "# Some code in this file is adapted, from:\n",
    "# Adversarial Example Generation, Inkawhich, N. and Uriegas, E.,  2018, Available from: https://github.com/pytorch/tutorials/blob/master/beginner_source/fgsm_tutorial.py , Accessed: 20 Feb 2022"
   ]
  },
  {
   "cell_type": "code",
   "execution_count": 13,
   "metadata": {
    "colab": {
     "base_uri": "https://localhost:8080/"
    },
    "executionInfo": {
     "elapsed": 7,
     "status": "ok",
     "timestamp": 1649246273502,
     "user": {
      "displayName": "jacob byrne",
      "userId": "05085560715297500670"
     },
     "user_tz": -60
    },
    "id": "VS3Y8AYCtbRm",
    "outputId": "bc7527eb-127e-46cc-cc8e-3446328d9232"
   },
   "outputs": [
    {
     "data": {
      "text/plain": [
       "<torch._C.Generator at 0x7fdf0c600ed0>"
      ]
     },
     "execution_count": 13,
     "metadata": {},
     "output_type": "execute_result"
    }
   ],
   "source": [
    "from __future__ import print_function\n",
    "import torch\n",
    "import torch.nn as nn\n",
    "import torch.nn.functional as F\n",
    "import torch.optim as optim\n",
    "from torchvision import datasets, transforms\n",
    "import torchvision\n",
    "import numpy as np\n",
    "import matplotlib.pyplot as plt\n",
    "import os\n",
    "import time\n",
    "import datetime\n",
    "import csv\n",
    "from RKNet import RKNet\n",
    "\n",
    "\n",
    "# NOTE: This is a hack to get around \"User-agent\" limitations when downloading MNIST datasets\n",
    "#       see, https://github.com/pytorch/vision/issues/3497 for more information\n",
    "from six.moves import urllib\n",
    "opener = urllib.request.build_opener()\n",
    "opener.addheaders = [('User-agent', 'Mozilla/5.0')]\n",
    "urllib.request.install_opener(opener)"
   ]
  },
  {
   "cell_type": "code",
   "execution_count": 14,
   "metadata": {
    "executionInfo": {
     "elapsed": 4,
     "status": "ok",
     "timestamp": 1649246273502,
     "user": {
      "displayName": "jacob byrne",
      "userId": "05085560715297500670"
     },
     "user_tz": -60
    },
    "id": "jEd2ub_Ftv3w"
   },
   "outputs": [],
   "source": [
    "pretrained_model = os.path.join('results',\"current_pdenet.pt\")\n",
    "use_cuda=True"
   ]
  },
  {
   "cell_type": "code",
   "execution_count": 15,
   "metadata": {
    "colab": {
     "base_uri": "https://localhost:8080/"
    },
    "executionInfo": {
     "elapsed": 2552,
     "status": "ok",
     "timestamp": 1649246276310,
     "user": {
      "displayName": "jacob byrne",
      "userId": "05085560715297500670"
     },
     "user_tz": -60
    },
    "id": "xAW3t-3Yt0P3",
    "outputId": "8adeaf8c-0c53-44bc-ca4d-d80cebc96d66"
   },
   "outputs": [
    {
     "name": "stdout",
     "output_type": "stream",
     "text": [
      "Files already downloaded and verified\n",
      "CUDA Available:  True\n"
     ]
    }
   ],
   "source": [
    "\n",
    "shift = transforms.Normalize(\n",
    "    mean=[0.5,0.5,0.5],\n",
    "    std=[1.,1.,1.],\n",
    "  )\n",
    "\n",
    "# CIFAR-10 Test dataset and dataloader declaration\n",
    "test_data =  datasets.CIFAR10('../data', train=False, download=True, transform=transforms.Compose([\n",
    "    transforms.Resize(256),\n",
    "    transforms.CenterCrop(224),\n",
    "    transforms.ToTensor(),\n",
    "    shift]))\n",
    "\n",
    "test_loader = torch.utils.data.DataLoader(test_data, batch_size=1, shuffle=False)\n",
    "\n",
    "# Define device choice\n",
    "print(\"CUDA Available: \",torch.cuda.is_available())\n",
    "device = torch.device(\"cuda\" if (use_cuda and torch.cuda.is_available()) else \"cpu\")"
   ]
  },
  {
   "cell_type": "code",
   "execution_count": 19,
   "metadata": {
    "executionInfo": {
     "elapsed": 260,
     "status": "ok",
     "timestamp": 1649246291831,
     "user": {
      "displayName": "jacob byrne",
      "userId": "05085560715297500670"
     },
     "user_tz": -60
    },
    "id": "vHeT5O9pjLUr"
   },
   "outputs": [],
   "source": [
    "# Load model\n",
    "model = torch.load(pretrained_model)\n",
    "# Set to eval mode, as no training\n",
    "model.eval()\n",
    "# Load to GPU\n",
    "model = model.to(device)"
   ]
  },
  {
   "cell_type": "code",
   "execution_count": 20,
   "metadata": {
    "executionInfo": {
     "elapsed": 231,
     "status": "ok",
     "timestamp": 1649246295257,
     "user": {
      "displayName": "jacob byrne",
      "userId": "05085560715297500670"
     },
     "user_tz": -60
    },
    "id": "8YAqfC930VlV"
   },
   "outputs": [],
   "source": [
    "## Non JB Code Block ##\n",
    "\n",
    "# FGSM attack code\n",
    "def fgsm_attack(image, epsilon, data_grad):\n",
    "    if epsilon == 0:\n",
    "      return image\n",
    "    # Collect the element-wise sign of the data gradient\n",
    "    sign_data_grad = data_grad.sign()\n",
    "    # Create the perturbed image by adjusting each pixel of the input image\n",
    "    perturbed_image = image + epsilon*sign_data_grad\n",
    "    # Adding clipping to maintain [0,1] range\n",
    "    perturbed_image = torch.clamp(perturbed_image, -0.5, 0.5)\n",
    "    # Return the perturbed image\n",
    "    return perturbed_image"
   ]
  },
  {
   "cell_type": "code",
   "execution_count": 21,
   "metadata": {
    "executionInfo": {
     "elapsed": 221,
     "status": "ok",
     "timestamp": 1649246296575,
     "user": {
      "displayName": "jacob byrne",
      "userId": "05085560715297500670"
     },
     "user_tz": -60
    },
    "id": "Iuybhtuw0WV0"
   },
   "outputs": [],
   "source": [
    "def norm_test( model, device, test_loader, epsilons ):\n",
    "    start = time.time()\n",
    "    sStartTime = datetime.datetime.now().strftime(\"%Y_%m_%d_%H_%M_%S\")\n",
    "    file_name = 'norm_diff_fgsm_resnet' + sStartTime + '.csv'\n",
    "\n",
    "    csv_path = os.path.join('results',file_name)\n",
    "    header = ['eps','y0_diff','y_diff']\n",
    "    with open(csv_path,'w') as f:\n",
    "      writer = csv.writer(f)\n",
    "      writer.writerow(header)\n",
    "\n",
    "        \n",
    "# v------Non JB Code------v # \n",
    "      for eps in epsilons:\n",
    "  \n",
    "        # Loop over all examples in test set\n",
    "        for data, target in test_loader:\n",
    "\n",
    "            data, target = data.to(device), target.to(device)\n",
    "\n",
    "\n",
    "            # Set requires_grad attribute of tensor. Important for Attack\n",
    "            data.requires_grad = True\n",
    "            \n",
    "            # Forward pass the data through the model\n",
    "            output = model(data)\n",
    "            \n",
    "            # Calculate the loss\n",
    "            loss = F.nll_loss(output, target)\n",
    "\n",
    "            # Zero all existing gradients\n",
    "            model.zero_grad()\n",
    "\n",
    "            # Calculate gradients of model in backward pass\n",
    "            loss.backward()\n",
    "\n",
    "            # Collect datagrad\n",
    "            data_grad = data.grad.data\n",
    "\n",
    "            # Call FGSM Attack\n",
    "            perturbed_data = fgsm_attack(data, eps, data_grad)\n",
    "\n",
    "            # Re-classify the perturbed image\n",
    "            output_tild = model(perturbed_data)\n",
    "# ^------Non JB Code------^ #\n",
    "\n",
    "            # Calculate norms and save\n",
    "            norm_init = torch.linalg.norm(data-perturbed_data)\n",
    "            norm_final = torch.linalg.norm(output-output_tild)\n",
    "            writer.writerow([eps,norm_init.item(),norm_final.item()])\n",
    "            \n",
    "\n",
    "   "
   ]
  },
  {
   "cell_type": "code",
   "execution_count": 22,
   "metadata": {
    "executionInfo": {
     "elapsed": 539213,
     "status": "ok",
     "timestamp": 1649246837711,
     "user": {
      "displayName": "jacob byrne",
      "userId": "05085560715297500670"
     },
     "user_tz": -60
    },
    "id": "EVtDAioW0Xv1"
   },
   "outputs": [],
   "source": [
    "epsilons = [0.001,0.007,0.01,0.07,0.1,0.2]\n",
    "norm_test(model, device, test_loader, epsilons)"
   ]
  }
 ],
 "metadata": {
  "accelerator": "GPU",
  "colab": {
   "authorship_tag": "ABX9TyN+4nCWWcHe16ZZ8l6z13Jv",
   "collapsed_sections": [],
   "name": "ParabNet FGSM Norm Testing",
   "provenance": [
    {
     "file_id": "13MvYC7Rv_B4AYIgE5OJeF1TGycjsxdvR",
     "timestamp": 1649246118463
    },
    {
     "file_id": "1CWLqfL6SUAZ-HxLkXHCC_Ax-oxISEnAk",
     "timestamp": 1649238994671
    },
    {
     "file_id": "1gx11K-O-INdE8vWMxR9x859nwcbzIc-q",
     "timestamp": 1648471098995
    }
   ]
  },
  "kernelspec": {
   "display_name": "Python 3",
   "language": "python",
   "name": "python3"
  },
  "language_info": {
   "codemirror_mode": {
    "name": "ipython",
    "version": 3
   },
   "file_extension": ".py",
   "mimetype": "text/x-python",
   "name": "python",
   "nbconvert_exporter": "python",
   "pygments_lexer": "ipython3",
   "version": "3.8.8"
  }
 },
 "nbformat": 4,
 "nbformat_minor": 1
}
